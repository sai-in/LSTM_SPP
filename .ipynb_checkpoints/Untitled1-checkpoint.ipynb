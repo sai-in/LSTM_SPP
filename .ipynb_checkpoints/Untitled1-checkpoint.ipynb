{
 "cells": [
  {
   "cell_type": "code",
   "execution_count": 13,
   "id": "4b4dd572",
   "metadata": {},
   "outputs": [],
   "source": [
    "import yfinance as yf\n",
    "import pandas as pd\n",
    "import numpy as np"
   ]
  },
  {
   "cell_type": "code",
   "execution_count": 16,
   "id": "af9e7cf4",
   "metadata": {},
   "outputs": [
    {
     "name": "stdout",
     "output_type": "stream",
     "text": [
      "[*********************100%***********************]  1 of 1 completed\n"
     ]
    }
   ],
   "source": [
    "df = yf.download('MSFT', '2000-01-01')\n",
    "df.to_csv('Microsoft.csv')"
   ]
  },
  {
   "cell_type": "code",
   "execution_count": 9,
   "id": "df2a884c",
   "metadata": {},
   "outputs": [
    {
     "data": {
      "text/html": [
       "<div>\n",
       "<style scoped>\n",
       "    .dataframe tbody tr th:only-of-type {\n",
       "        vertical-align: middle;\n",
       "    }\n",
       "\n",
       "    .dataframe tbody tr th {\n",
       "        vertical-align: top;\n",
       "    }\n",
       "\n",
       "    .dataframe thead th {\n",
       "        text-align: right;\n",
       "    }\n",
       "</style>\n",
       "<table border=\"1\" class=\"dataframe\">\n",
       "  <thead>\n",
       "    <tr style=\"text-align: right;\">\n",
       "      <th></th>\n",
       "      <th>Open</th>\n",
       "      <th>High</th>\n",
       "      <th>Low</th>\n",
       "      <th>Close</th>\n",
       "      <th>Adj Close</th>\n",
       "      <th>Volume</th>\n",
       "    </tr>\n",
       "    <tr>\n",
       "      <th>Date</th>\n",
       "      <th></th>\n",
       "      <th></th>\n",
       "      <th></th>\n",
       "      <th></th>\n",
       "      <th></th>\n",
       "      <th></th>\n",
       "    </tr>\n",
       "  </thead>\n",
       "  <tbody>\n",
       "    <tr>\n",
       "      <th>2021-07-28</th>\n",
       "      <td>2771.239990</td>\n",
       "      <td>2793.520020</td>\n",
       "      <td>2727.000000</td>\n",
       "      <td>2727.629883</td>\n",
       "      <td>2727.629883</td>\n",
       "      <td>2734400</td>\n",
       "    </tr>\n",
       "    <tr>\n",
       "      <th>2021-07-29</th>\n",
       "      <td>2727.612061</td>\n",
       "      <td>2743.030029</td>\n",
       "      <td>2722.760010</td>\n",
       "      <td>2730.810059</td>\n",
       "      <td>2730.810059</td>\n",
       "      <td>964200</td>\n",
       "    </tr>\n",
       "    <tr>\n",
       "      <th>2021-07-30</th>\n",
       "      <td>2710.219971</td>\n",
       "      <td>2715.427002</td>\n",
       "      <td>2696.283936</td>\n",
       "      <td>2704.419922</td>\n",
       "      <td>2704.419922</td>\n",
       "      <td>1196600</td>\n",
       "    </tr>\n",
       "    <tr>\n",
       "      <th>2021-08-02</th>\n",
       "      <td>2709.689941</td>\n",
       "      <td>2720.409912</td>\n",
       "      <td>2693.389893</td>\n",
       "      <td>2719.790039</td>\n",
       "      <td>2719.790039</td>\n",
       "      <td>1007000</td>\n",
       "    </tr>\n",
       "    <tr>\n",
       "      <th>2021-08-03</th>\n",
       "      <td>2720.000000</td>\n",
       "      <td>2726.709961</td>\n",
       "      <td>2683.669922</td>\n",
       "      <td>2725.600098</td>\n",
       "      <td>2725.600098</td>\n",
       "      <td>952600</td>\n",
       "    </tr>\n",
       "  </tbody>\n",
       "</table>\n",
       "</div>"
      ],
      "text/plain": [
       "                   Open         High          Low        Close    Adj Close  \\\n",
       "Date                                                                          \n",
       "2021-07-28  2771.239990  2793.520020  2727.000000  2727.629883  2727.629883   \n",
       "2021-07-29  2727.612061  2743.030029  2722.760010  2730.810059  2730.810059   \n",
       "2021-07-30  2710.219971  2715.427002  2696.283936  2704.419922  2704.419922   \n",
       "2021-08-02  2709.689941  2720.409912  2693.389893  2719.790039  2719.790039   \n",
       "2021-08-03  2720.000000  2726.709961  2683.669922  2725.600098  2725.600098   \n",
       "\n",
       "             Volume  \n",
       "Date                 \n",
       "2021-07-28  2734400  \n",
       "2021-07-29   964200  \n",
       "2021-07-30  1196600  \n",
       "2021-08-02  1007000  \n",
       "2021-08-03   952600  "
      ]
     },
     "execution_count": 9,
     "metadata": {},
     "output_type": "execute_result"
    }
   ],
   "source": [
    "df.tail()"
   ]
  },
  {
   "cell_type": "code",
   "execution_count": 17,
   "id": "83413509",
   "metadata": {},
   "outputs": [
    {
     "data": {
      "text/plain": [
       "(5432, 6)"
      ]
     },
     "execution_count": 17,
     "metadata": {},
     "output_type": "execute_result"
    }
   ],
   "source": [
    "df.shape"
   ]
  },
  {
   "cell_type": "code",
   "execution_count": null,
   "id": "2ff66f57",
   "metadata": {},
   "outputs": [],
   "source": []
  }
 ],
 "metadata": {
  "kernelspec": {
   "display_name": "Python 3",
   "language": "python",
   "name": "python3"
  },
  "language_info": {
   "codemirror_mode": {
    "name": "ipython",
    "version": 3
   },
   "file_extension": ".py",
   "mimetype": "text/x-python",
   "name": "python",
   "nbconvert_exporter": "python",
   "pygments_lexer": "ipython3",
   "version": "3.9.5"
  }
 },
 "nbformat": 4,
 "nbformat_minor": 5
}
